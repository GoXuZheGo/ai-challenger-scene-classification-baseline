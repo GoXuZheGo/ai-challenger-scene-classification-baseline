{
 "cells": [
  {
   "cell_type": "code",
   "execution_count": 1,
   "metadata": {},
   "outputs": [],
   "source": [
    "%reload_ext autoreload\n",
    "%autoreload 2"
   ]
  },
  {
   "cell_type": "code",
   "execution_count": 2,
   "metadata": {},
   "outputs": [],
   "source": [
    "import mxnet as mx\n",
    "from mxnet import nd\n",
    "import mxnet.gluon as gl\n",
    "import numpy as np"
   ]
  },
  {
   "cell_type": "code",
   "execution_count": 3,
   "metadata": {},
   "outputs": [],
   "source": [
    "test_root = './data/ai_challenger_scene_test_a_20170922/'"
   ]
  },
  {
   "cell_type": "code",
   "execution_count": 4,
   "metadata": {},
   "outputs": [],
   "source": [
    "def transform_test(img):\n",
    "    if min(img.shape[0], img.shape[1]) < 224:\n",
    "        img = mx.image.resize_short(img, 224)\n",
    "    im_h, im_w = img.shape[0], img.shape[1]\n",
    "    img0 = mx.image.center_crop(img, (224, 224))[0]\n",
    "    img1 = mx.image.fixed_crop(img, 0, 0, 224, 224)\n",
    "    img2 = mx.image.fixed_crop(img, im_w-224, 0, 224, 224)\n",
    "    img3 = mx.image.fixed_crop(img, 0, im_h-224, 224, 224)\n",
    "    img4 = mx.image.fixed_crop(img, im_w-224, im_h-224, 224, 224)\n",
    "    \n",
    "    img0 = img0.astype('float32') / 255\n",
    "    img1 = img1.astype('float32') / 255\n",
    "    img2 = img2.astype('float32') / 255\n",
    "    img3 = img3.astype('float32') / 255\n",
    "    img4 = img4.astype('float32') / 255\n",
    "    \n",
    "    img0 = mx.image.color_normalize(img0, mean=nd.array([0.4960, 0.4781, 0.4477]), \n",
    "                             std=nd.array([0.2915, 0.2864, 0.2981]))\n",
    "    img1 = mx.image.color_normalize(img1, mean=nd.array([0.4960, 0.4781, 0.4477]), \n",
    "                             std=nd.array([0.2915, 0.2864, 0.2981]))\n",
    "    img2 = mx.image.color_normalize(img2, mean=nd.array([0.4960, 0.4781, 0.4477]), \n",
    "                             std=nd.array([0.2915, 0.2864, 0.2981]))\n",
    "    img3 = mx.image.color_normalize(img3, mean=nd.array([0.4960, 0.4781, 0.4477]), \n",
    "                             std=nd.array([0.2915, 0.2864, 0.2981]))\n",
    "    img4 = mx.image.color_normalize(img4, mean=nd.array([0.4960, 0.4781, 0.4477]), \n",
    "                             std=nd.array([0.2915, 0.2864, 0.2981]))\n",
    "    \n",
    "    img0 = nd.transpose(img0, (2, 0, 1))\n",
    "    img1 = nd.transpose(img1, (2, 0, 1))\n",
    "    img2 = nd.transpose(img2, (2, 0, 1))\n",
    "    img3 = nd.transpose(img3, (2, 0, 1))\n",
    "    img4 = nd.transpose(img4, (2, 0, 1))\n",
    "    \n",
    "    return img0, img1, img2, img3, img4"
   ]
  },
  {
   "cell_type": "code",
   "execution_count": 5,
   "metadata": {},
   "outputs": [],
   "source": [
    "from data_utils import TestDataSet\n",
    "from dataloader import DataLoader"
   ]
  },
  {
   "cell_type": "code",
   "execution_count": 6,
   "metadata": {},
   "outputs": [],
   "source": [
    "test_img_path = test_root + '/scene_test_a_images_20170922/'\n",
    "test_set = TestDataSet(test_img_path, transform_test)\n",
    "test_data = DataLoader(test_set, 32, shuffle=False, last_batch='keep')"
   ]
  },
  {
   "cell_type": "code",
   "execution_count": 7,
   "metadata": {},
   "outputs": [],
   "source": [
    "ctx = mx.gpu(0)\n",
    "net = gl.model_zoo.vision.resnet50_v2(classes=80)\n",
    "# net.initialize(ctx=ctx)\n",
    "net.load_params('./net.params', ctx=ctx)\n",
    "net.hybridize()"
   ]
  },
  {
   "cell_type": "code",
   "execution_count": 8,
   "metadata": {},
   "outputs": [],
   "source": [
    "import json"
   ]
  },
  {
   "cell_type": "code",
   "execution_count": 9,
   "metadata": {
    "scrolled": true
   },
   "outputs": [],
   "source": [
    "sub_list = []\n",
    "i = 0\n",
    "for im_name, im0, im1, im2, im3, im4 in test_data:\n",
    "    im0 = im0.as_in_context(ctx)\n",
    "    im1 = im1.as_in_context(ctx)\n",
    "    im2 = im2.as_in_context(ctx)\n",
    "    im3 = im3.as_in_context(ctx)\n",
    "    im4 = im4.as_in_context(ctx)\n",
    "    \n",
    "    out0 = net(im0)\n",
    "    out1 = net(im1)\n",
    "    out2 = net(im2)\n",
    "    out3 = net(im3)\n",
    "    out4 = net(im4)\n",
    "    \n",
    "    out = (out0 + out1 + out2 + out3 + out4) / 5\n",
    "    pred = nd.topk(out, 1, k=3)\n",
    "    \n",
    "    for n in range(len(im_name)):\n",
    "        temp_dict = {'image_id': im_name[n], 'label_id': [int(i) for i in pred[n].asnumpy()]}\n",
    "        sub_list.append(temp_dict)"
   ]
  },
  {
   "cell_type": "code",
   "execution_count": 10,
   "metadata": {
    "scrolled": true
   },
   "outputs": [],
   "source": [
    "with open('submission.json', 'w') as fout:\n",
    "    json.dump(sub_list, fout)"
   ]
  },
  {
   "cell_type": "code",
   "execution_count": null,
   "metadata": {},
   "outputs": [],
   "source": []
  }
 ],
 "metadata": {
  "kernelspec": {
   "display_name": "Python 3",
   "language": "python",
   "name": "python3"
  },
  "language_info": {
   "codemirror_mode": {
    "name": "ipython",
    "version": 3
   },
   "file_extension": ".py",
   "mimetype": "text/x-python",
   "name": "python",
   "nbconvert_exporter": "python",
   "pygments_lexer": "ipython3",
   "version": "3.6.2"
  }
 },
 "nbformat": 4,
 "nbformat_minor": 2
}
